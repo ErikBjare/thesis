{
 "cells": [
  {
   "cell_type": "markdown",
   "metadata": {},
   "source": [
    "# Main analysis\n",
    "\n",
    "The primary analysis for the thesis, where we train a classifier for the code vs prose task."
   ]
  },
  {
   "cell_type": "code",
   "execution_count": null,
   "metadata": {},
   "outputs": [],
   "source": [
    "# Imports\n",
    "from pathlib import Path\n",
    "from datetime import datetime, timezone\n",
    "from eegclassify import main, load, clean, features, preprocess\n",
    "\n",
    "import pandas as pd\n",
    "import numpy as np\n",
    "\n",
    "# Set this to True to run on testing data\n",
    "simulate_test = False\n",
    "if simulate_test:\n",
    "    import os\n",
    "    os.environ['PYTEST_CURRENT_TEST'] = \"true\""
   ]
  },
  {
   "cell_type": "code",
   "execution_count": null,
   "metadata": {},
   "outputs": [],
   "source": [
    "%%javascript\n",
    "document.title='erb-thesis/Main - Jupyter'  // Set the document title to be able to track time spent working on the notebook with ActivityWatch"
   ]
  },
  {
   "cell_type": "code",
   "execution_count": null,
   "metadata": {},
   "outputs": [],
   "source": [
    "# Load raw EEG data\n",
    "# FIXME: Look for discontinuities in the data\n",
    "\n",
    "\n",
    "data_dir = Path('../data').resolve()\n",
    "print(data_dir)\n",
    "\n",
    "# TODO: Load all files from all subjects\n",
    "#recordings_dir = data_dir / \"test/local/museS/subject0001/session001/\"\n",
    "#files = sorted(list(recordings_dir.glob(\"*.csv\")))\n",
    "\n",
    "files = [data_dir / 'eeg/muse/subject0000/session001/recording_2021-04-02-14.03.36.csv']\n",
    "\n",
    "eeg = load.load_eeg(files)\n",
    "eeg = eeg.set_index('timestamp').sort_index()"
   ]
  },
  {
   "cell_type": "code",
   "execution_count": null,
   "metadata": {},
   "outputs": [],
   "source": [
    "# Load markers\n",
    "\n",
    "# TODO: Extract 'relax' sections in between tasks?\n",
    "\n",
    "marker_file = data_dir / 'tasks/visual-codeprose/subject0000/session000/subject0_session0_behOutput_2021-04-02-14.28.30.csv'\n",
    "#marker_file = Path('/home/erb/.eegnb/data/visual-codeprose/local/none/session000/subject1_session0_behOutput_2021-03-26-14.31.14.csv')\n",
    "df_markers = pd.read_csv(marker_file, index_col=0)\n",
    "df_markers['duration'] = df_markers['t_answered'] - df_markers['t_presented']\n",
    "\n",
    "# Filter away rows where the subject didn't spend at least 10 seconds with the task\n",
    "df_markers = df_markers[df_markers['duration'] > 10]\n",
    "\n",
    "# Filter away rows where space was clicked (didn't answer/skipped/unsure?)\n",
    "df_markers = df_markers[df_markers['response'].isin(['up', 'down'])]\n",
    "\n",
    "df_markers"
   ]
  },
  {
   "cell_type": "code",
   "execution_count": null,
   "metadata": {},
   "outputs": [],
   "source": [
    "# Preprocess\n",
    "# TODO: Split using timestamps from the stimuli markers\n",
    "sfreq = 256\n",
    "\n",
    "for _, row in df_markers.iterrows():\n",
    "    start = datetime.fromtimestamp(row['t_presented_utc'], timezone.utc)\n",
    "    stop = datetime.fromtimestamp(row['t_answered_utc'], timezone.utc)\n",
    "    epoch = eeg.truncate(start, stop)\n",
    "    \n",
    "    # Check that sample count aligns with epoch duration\n",
    "    expected_samples = round(row['duration'] * sfreq)\n",
    "    actual_samples = len(epoch)\n",
    "    diff = expected_samples - actual_samples\n",
    "    if abs(diff) > 5:\n",
    "        logger.warning(f\"Expected {expected_samples} samples, found {actual_samples}\")"
   ]
  },
  {
   "cell_type": "code",
   "execution_count": null,
   "metadata": {},
   "outputs": [],
   "source": [
    "# TODO: Split into sessions (by date) for LORO CV"
   ]
  },
  {
   "cell_type": "code",
   "execution_count": null,
   "metadata": {},
   "outputs": [],
   "source": []
  }
 ],
 "metadata": {
  "kernelspec": {
   "display_name": "erb-thesis",
   "language": "python",
   "name": "erb-thesis"
  },
  "language_info": {
   "codemirror_mode": {
    "name": "ipython",
    "version": 3
   },
   "file_extension": ".py",
   "mimetype": "text/x-python",
   "name": "python",
   "nbconvert_exporter": "python",
   "pygments_lexer": "ipython3",
   "version": "3.8.7"
  }
 },
 "nbformat": 4,
 "nbformat_minor": 4
}
