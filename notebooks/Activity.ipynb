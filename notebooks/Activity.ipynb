{
 "cells": [
  {
   "cell_type": "markdown",
   "metadata": {},
   "source": [
    "# Activity classification\n",
    "\n",
    "Classification of device activities (tracked with ActivityWatch) from EEG data."
   ]
  },
  {
   "cell_type": "code",
   "execution_count": null,
   "metadata": {},
   "outputs": [],
   "source": [
    "# Imports\n",
    "import logging\n",
    "import matplotlib.pyplot as plt\n",
    "import eegclassify\n",
    "from eegclassify import main, load, clean, features, preprocess, plot, transform\n",
    "\n",
    "# Set this to True to run on testing data\n",
    "simulate_test = False\n",
    "if simulate_test:\n",
    "    import os\n",
    "    os.environ['PYTEST_CURRENT_TEST'] = \"true\"\n",
    "    \n",
    "%matplotlib inline\n",
    "plt.rcParams['figure.dpi'] = 300"
   ]
  },
  {
   "cell_type": "code",
   "execution_count": null,
   "metadata": {},
   "outputs": [],
   "source": [
    "%%javascript\n",
    "document.title='erb-thesis/Activity - Jupyter'  // Set the document title to be able to track time spent working on the notebook with ActivityWatch"
   ]
  },
  {
   "cell_type": "code",
   "execution_count": null,
   "metadata": {},
   "outputs": [],
   "source": [
    "# Load data and save into special variable that won't be overwritten (since loading takes a while)\n",
    "df_loaded = load.load_labeled_eeg2()"
   ]
  },
  {
   "cell_type": "code",
   "execution_count": null,
   "metadata": {},
   "outputs": [],
   "source": [
    "df_loaded.describe()"
   ]
  },
  {
   "cell_type": "code",
   "execution_count": null,
   "metadata": {},
   "outputs": [],
   "source": [
    "# Preprocess\n",
    "\n",
    "df = df_loaded\n",
    "df = preprocess.split_rows(df, min_duration=5)\n",
    "#df = clean.clean(df)\n",
    "df"
   ]
  },
  {
   "cell_type": "code",
   "execution_count": null,
   "metadata": {},
   "outputs": [],
   "source": [
    "plot.classdistribution(df)"
   ]
  },
  {
   "cell_type": "code",
   "execution_count": null,
   "metadata": {},
   "outputs": [],
   "source": [
    "# Can we do PCA on the signal?\n",
    "\n",
    "logging.getLogger('eegclassify.transform').setLevel(logging.ERROR)\n",
    "X, y = transform.signal_ndarray(df)\n",
    "print(X.shape)\n",
    "#plot.pca(X, y)"
   ]
  },
  {
   "cell_type": "code",
   "execution_count": null,
   "metadata": {},
   "outputs": [],
   "source": [
    "df_all = _remove_rare(df, \"class\", threshold_count=50)\n",
    "\n",
    "df_codeprose = clean._select_classes(\n",
    "    df,\n",
    "    \"class\",\n",
    "    [\"Editing->Code\", \"Editing->Prose\"]\n",
    ")\n",
    "\n",
    "df_twitter = clean._select_classes(\n",
    "    df,\n",
    "    \"class\",\n",
    "    [\"Twitter\", \"YouTube\"]\n",
    ")\n",
    "\n",
    "df_codetwitter = clean._select_classes(\n",
    "    df,\n",
    "    \"class\",\n",
    "    [\"Editing->Code\", \"Twitter\"]\n",
    ")\n",
    "\n",
    "all_dfs = [df_all, df_codeprose, df_twitter, df_codetwitter]"
   ]
  },
  {
   "cell_type": "code",
   "execution_count": null,
   "metadata": {},
   "outputs": [],
   "source": [
    "# Train\n",
    "import importlib\n",
    "importlib.reload(eegclassify.main)\n",
    "importlib.reload(eegclassify.transform)\n",
    "\n",
    "for df_train in all_dfs:\n",
    "    print(set(df_train['class']))\n",
    "    try:\n",
    "        main._train_raw(df_train, shuffle=True)\n",
    "    except Exception as e:\n",
    "        # TODO: Fix testing data such that it doesn't err\n",
    "        print(\"Error while training\", e)"
   ]
  },
  {
   "cell_type": "code",
   "execution_count": null,
   "metadata": {},
   "outputs": [],
   "source": [
    "try:\n",
    "    main._train_features(df_train)\n",
    "except Exception as e:\n",
    "    # TODO: Fix testing data such that it doesn't err\n",
    "    print(\"Error while training\", e)"
   ]
  },
  {
   "cell_type": "code",
   "execution_count": null,
   "metadata": {},
   "outputs": [],
   "source": []
  },
  {
   "cell_type": "code",
   "execution_count": null,
   "metadata": {},
   "outputs": [],
   "source": []
  }
 ],
 "metadata": {
  "kernelspec": {
   "display_name": "erb-thesis",
   "language": "python",
   "name": "erb-thesis"
  },
  "language_info": {
   "codemirror_mode": {
    "name": "ipython",
    "version": 3
   },
   "file_extension": ".py",
   "mimetype": "text/x-python",
   "name": "python",
   "nbconvert_exporter": "python",
   "pygments_lexer": "ipython3",
   "version": "3.8.7"
  }
 },
 "nbformat": 4,
 "nbformat_minor": 4
}
