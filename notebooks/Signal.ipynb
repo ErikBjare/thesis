{
 "cells": [
  {
   "cell_type": "markdown",
   "id": "fundamental-cycle",
   "metadata": {},
   "source": [
    "# Signal\n",
    "\n",
    "Various utilities to do signal filtering and quality checking."
   ]
  },
  {
   "cell_type": "code",
   "execution_count": null,
   "id": "psychological-intersection",
   "metadata": {},
   "outputs": [],
   "source": [
    "# Imports\n",
    "from pathlib import Path\n",
    "\n",
    "import numpy as np\n",
    "import seaborn as sns\n",
    "import matplotlib\n",
    "import matplotlib.pyplot as plt\n",
    "\n",
    "from eegclassify import main, load, clean, features, preprocess, transform\n",
    "from eegwatch.devices.muse import CHANNELS_MUSE\n",
    "\n",
    "%matplotlib inline\n",
    "plt.rcParams['figure.figsize'] = [16, 4]\n",
    "plt.rcParams['figure.dpi'] = 300\n",
    "\n",
    "sfreq = 256\n",
    "N_SAMPLES_PLOT = 400"
   ]
  },
  {
   "cell_type": "code",
   "execution_count": null,
   "id": "everyday-services",
   "metadata": {},
   "outputs": [],
   "source": [
    "%%javascript\n",
    "document.title='erb-thesis/Signal - Jupyter'  // Set the document title to be able to track time spent working on the notebook with ActivityWatch"
   ]
  },
  {
   "cell_type": "code",
   "execution_count": null,
   "id": "portable-delight",
   "metadata": {},
   "outputs": [],
   "source": [
    "# Pick the last recording\n",
    "recording_dir = Path(\"/home/erb/.eegnb/data/test/local/museS/subject0000/session001\")\n",
    "if recording_dir.exists():\n",
    "    files = list(recording_dir.glob(\"*.csv\"))\n",
    "else:\n",
    "    files = load._get_all_recording_files()\n",
    "files = sorted(files)[-1:]\n",
    "\n",
    "# Load the last files\n",
    "df = load.load_eeg(files)\n",
    "print(\"Recording ended: \", df['timestamp'].max())\n",
    "X = df.drop(columns=['timestamp']).to_numpy()\n",
    "print(X.shape)"
   ]
  },
  {
   "cell_type": "code",
   "execution_count": null,
   "id": "continental-execution",
   "metadata": {},
   "outputs": [],
   "source": [
    "ax = sns.lineplot(data=X[-N_SAMPLES_PLOT:, :], dashes=False)\n",
    "ax.set_title(\"Raw signal (pre-filtering)\")\n",
    "ax.legend(labels=CHANNELS_MUSE, loc='upper right');\n",
    "ax.set_xlim(0, N_SAMPLES_PLOT)\n",
    "ax.set_ylim(-125, 125)"
   ]
  },
  {
   "cell_type": "code",
   "execution_count": null,
   "id": "concrete-admission",
   "metadata": {},
   "outputs": [],
   "source": [
    "X_f = clean.filter(X, sfreq)\n",
    "ax = sns.lineplot(data=X_f[-N_SAMPLES_PLOT:, :], dashes=False)\n",
    "ax.set_title(\"Filtered signal\")\n",
    "ax.legend(labels=CHANNELS_MUSE, loc='upper right');\n",
    "ax.set_xlim(0, N_SAMPLES_PLOT)\n",
    "ax.set_ylim(-125, 125)"
   ]
  },
  {
   "cell_type": "code",
   "execution_count": null,
   "id": "significant-zealand",
   "metadata": {},
   "outputs": [],
   "source": [
    "# Check the stddev of each channel\n",
    "# TODO: refactor signal check function to actually use this\n",
    "X_check = X_f[-N_SAMPLES_PLOT:, :]\n",
    "print(\"mean\\t\", np.mean(X_check, axis=0))\n",
    "print(\"std\\t\", np.std(X_check, axis=0))\n",
    "print(\"maxabs\\t\", np.max(np.abs(X_check), axis=0))"
   ]
  },
  {
   "cell_type": "code",
   "execution_count": null,
   "id": "going-adjustment",
   "metadata": {},
   "outputs": [],
   "source": [
    "# std below this value is good\n",
    "std_thres = 40\n",
    "\n",
    "# std below this value is perfect\n",
    "std_perfect = 10\n",
    "\n",
    "def check(X: np.ndarray) -> float:\n",
    "    std = np.std(X, axis=0)\n",
    "    return std\n",
    "    \n",
    "def score(std: float) -> float:\n",
    "    qual = std_thres - np.clip(std, std_perfect, std_thres)\n",
    "    qual = qual / (std_thres - std_perfect)\n",
    "    return np.clip(qual, 0, 1)\n",
    "\n",
    "assert score(std_thres) == 0\n",
    "assert score(std_perfect) == 1"
   ]
  },
  {
   "cell_type": "code",
   "execution_count": null,
   "id": "current-timing",
   "metadata": {},
   "outputs": [],
   "source": [
    "# Plot signal quality as timeline plot\n",
    "from eegclassify.plot import TimelineFigure\n",
    "\n",
    "tl = TimelineFigure(title=\"Signal quality\", figsize=(16, 4))\n",
    "\n",
    "cmap = matplotlib.cm.get_cmap('RdYlGn')\n",
    "chunk_len = 250\n",
    "\n",
    "for i, channel in enumerate(CHANNELS_MUSE):\n",
    "    events = []\n",
    "    for si in range(chunk_len, X_f.shape[0], chunk_len):\n",
    "        begin = si - chunk_len\n",
    "        end = si\n",
    "        segment = X_f[list(range(begin, end)), i]\n",
    "        quality = score(check(segment))\n",
    "        # Channels should be listed in top-down order, as in the muse-lsl viewer\n",
    "        chidx = len(CHANNELS_MUSE) - 1 - i\n",
    "        events.append((begin, end, cmap(quality)))\n",
    "        \n",
    "    tl.add_bar(events, channel)\n",
    "\n",
    "tl.plot()"
   ]
  },
  {
   "cell_type": "code",
   "execution_count": null,
   "id": "6e8a5549-ac1c-4a06-87a7-0d941abef8ba",
   "metadata": {},
   "outputs": [],
   "source": []
  }
 ],
 "metadata": {
  "kernelspec": {
   "display_name": "erb-thesis",
   "language": "python",
   "name": "erb-thesis"
  },
  "language_info": {
   "codemirror_mode": {
    "name": "ipython",
    "version": 3
   },
   "file_extension": ".py",
   "mimetype": "text/x-python",
   "name": "python",
   "nbconvert_exporter": "python",
   "pygments_lexer": "ipython3",
   "version": "3.8.7"
  }
 },
 "nbformat": 4,
 "nbformat_minor": 5
}
