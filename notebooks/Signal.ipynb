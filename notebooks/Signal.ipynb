{
 "cells": [
  {
   "cell_type": "markdown",
   "id": "raising-costs",
   "metadata": {},
   "source": [
    "# Signal\n",
    "\n",
    "Various utilities to do signal filtering and quality checking."
   ]
  },
  {
   "cell_type": "code",
   "execution_count": null,
   "id": "continuing-medicare",
   "metadata": {},
   "outputs": [],
   "source": [
    "# Imports\n",
    "import numpy as np\n",
    "import seaborn as sns\n",
    "import matplotlib\n",
    "import matplotlib.pyplot as plt\n",
    "\n",
    "from eegclassify import main, load, clean, features, preprocess, transform\n",
    "from eegwatch.devices.muse import CHANNELS_MUSE\n",
    "\n",
    "%matplotlib inline\n",
    "plt.rcParams['figure.figsize'] = [15, 5]\n",
    "\n",
    "N_SAMPLES_PLOT = 400"
   ]
  },
  {
   "cell_type": "code",
   "execution_count": null,
   "id": "accessible-yacht",
   "metadata": {},
   "outputs": [],
   "source": [
    "%%javascript\n",
    "document.title='erb-thesis/Signal - Jupyter'  // Set the document title to be able to track time spent working on the notebook with ActivityWatch"
   ]
  },
  {
   "cell_type": "code",
   "execution_count": null,
   "id": "industrial-reunion",
   "metadata": {},
   "outputs": [],
   "source": [
    "# Pick the last recording\n",
    "files = load._get_all_recording_files()\n",
    "files = sorted(files)[-1:]\n",
    "\n",
    "# Load the last files\n",
    "df = load.load_eeg(files)\n",
    "X = df.drop(columns=['timestamp']).to_numpy()\n",
    "print(X.shape)"
   ]
  },
  {
   "cell_type": "code",
   "execution_count": null,
   "id": "otherwise-stopping",
   "metadata": {},
   "outputs": [],
   "source": [
    "ax = sns.lineplot(data=X[-N_SAMPLES_PLOT:, :], dashes=False)\n",
    "ax.set_title(\"Raw signal (pre-filtering)\")\n",
    "ax.legend(labels=CHANNELS_MUSE);"
   ]
  },
  {
   "cell_type": "code",
   "execution_count": null,
   "id": "incident-sharing",
   "metadata": {},
   "outputs": [],
   "source": [
    "X_f = clean.filter(X)\n",
    "ax = sns.lineplot(data=X_f[-N_SAMPLES_PLOT:, :], dashes=False)\n",
    "ax.set_title(\"Filtered signal\")\n",
    "ax.legend(labels=CHANNELS_MUSE);"
   ]
  },
  {
   "cell_type": "code",
   "execution_count": null,
   "id": "streaming-donor",
   "metadata": {},
   "outputs": [],
   "source": [
    "# Check the stddev of each channel\n",
    "# TODO: refactor signal check function to actually use this\n",
    "X_check = X_f[-N_SAMPLES_PLOT:, :]\n",
    "print(\"mean\\t\", np.mean(X_check, axis=0))\n",
    "print(\"std\\t\", np.std(X_check, axis=0))\n",
    "print(\"maxabs\\t\", np.max(np.abs(X_check), axis=0))"
   ]
  },
  {
   "cell_type": "code",
   "execution_count": null,
   "id": "auburn-failing",
   "metadata": {},
   "outputs": [],
   "source": [
    "# std below this value is good\n",
    "std_thres = 30\n",
    "\n",
    "# std below this value is perfect\n",
    "std_perfect = 10\n",
    "\n",
    "def check(X: np.ndarray) -> float:\n",
    "    std = np.std(X, axis=0)\n",
    "    return std\n",
    "    \n",
    "def score(std: float) -> float:\n",
    "    qual = std_thres - np.clip(std, std_perfect, std_thres)\n",
    "    qual = qual / (std_thres - std_perfect)\n",
    "    return np.clip(qual, 0, 1)\n",
    "\n",
    "assert score(std_thres) == 0\n",
    "assert score(std_perfect) == 1"
   ]
  },
  {
   "cell_type": "code",
   "execution_count": null,
   "id": "facial-market",
   "metadata": {},
   "outputs": [],
   "source": [
    "# Plot signal quality as timeline plot\n",
    "cmap = matplotlib.cm.get_cmap('RdYlGn')\n",
    "\n",
    "chunk_len = 200\n",
    "for i, channel in enumerate(CHANNELS_MUSE):\n",
    "    for si in range(chunk_len, X_f.shape[0], chunk_len):\n",
    "        begin = si - chunk_len\n",
    "        end = si\n",
    "        segment = X_f[list(range(begin, end)), i]\n",
    "        quality = score(check(segment))\n",
    "        chidx = len(CHANNELS_MUSE) - i - 1\n",
    "        plt.barh(chidx, end-begin, left=begin, color=cmap(quality))\n",
    "\n",
    "plt.yticks(range(len(CHANNELS_MUSE)), reversed(CHANNELS_MUSE))\n",
    "plt.title(\"Signal quality\")\n",
    "plt.show()"
   ]
  },
  {
   "cell_type": "code",
   "execution_count": null,
   "id": "animated-correlation",
   "metadata": {},
   "outputs": [],
   "source": []
  }
 ],
 "metadata": {
  "kernelspec": {
   "display_name": "erb-thesis",
   "language": "python",
   "name": "erb-thesis"
  },
  "language_info": {
   "codemirror_mode": {
    "name": "ipython",
    "version": 3
   },
   "file_extension": ".py",
   "mimetype": "text/x-python",
   "name": "python",
   "nbconvert_exporter": "python",
   "pygments_lexer": "ipython3",
   "version": "3.7.8"
  }
 },
 "nbformat": 4,
 "nbformat_minor": 5
}
