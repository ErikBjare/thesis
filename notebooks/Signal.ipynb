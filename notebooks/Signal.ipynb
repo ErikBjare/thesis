{
 "cells": [
  {
   "cell_type": "markdown",
   "id": "catholic-center",
   "metadata": {},
   "source": [
    "# Signal\n",
    "\n",
    "Various utilities to do signal checking and filtering."
   ]
  },
  {
   "cell_type": "code",
   "execution_count": null,
   "id": "positive-greek",
   "metadata": {},
   "outputs": [],
   "source": [
    "# Imports\n",
    "import seaborn as sns\n",
    "import matplotlib.pyplot as plt\n",
    "\n",
    "from eegclassify import main, load, clean, features, preprocess, transform\n",
    "from eegwatch.devices.muse import CHANNELS_MUSE\n",
    "\n",
    "%matplotlib inline\n",
    "plt.rcParams['figure.figsize'] = [15, 5]"
   ]
  },
  {
   "cell_type": "code",
   "execution_count": null,
   "id": "dramatic-defeat",
   "metadata": {},
   "outputs": [],
   "source": [
    "%%javascript\n",
    "document.title='erb-thesis/Signal - Jupyter'"
   ]
  },
  {
   "cell_type": "code",
   "execution_count": null,
   "id": "sorted-regular",
   "metadata": {},
   "outputs": [],
   "source": [
    "# Pick the last recording\n",
    "files = load._get_all_recording_files()\n",
    "files = sorted(files)[-10:]\n",
    "\n",
    "# Load the last files\n",
    "#df = load.load_eeg(files)\n",
    "df = load.load_labeled_eeg2(files)"
   ]
  },
  {
   "cell_type": "code",
   "execution_count": null,
   "id": "cellular-tyler",
   "metadata": {},
   "outputs": [],
   "source": [
    "# Transform to numpy arrays and pick first epoch\n",
    "X, y = transform.signal_ndarray(df)\n",
    "i = 2\n",
    "X, y = X[i, :].T, y[i]\n",
    "print(X.shape)"
   ]
  },
  {
   "cell_type": "code",
   "execution_count": null,
   "id": "professional-brooks",
   "metadata": {},
   "outputs": [],
   "source": [
    "ax = sns.lineplot(data=X[-400:, :], dashes=False)\n",
    "ax.set_title(\"Raw signal (pre-filtering)\")\n",
    "ax.legend(labels=CHANNELS_MUSE);"
   ]
  },
  {
   "cell_type": "code",
   "execution_count": null,
   "id": "working-single",
   "metadata": {},
   "outputs": [],
   "source": [
    "X_f = clean.filter(X)\n",
    "ax = sns.lineplot(data=X_f[-400:, :], dashes=False)\n",
    "ax.set_title(\"Filtered signal\")\n",
    "ax.legend(labels=CHANNELS_MUSE);"
   ]
  },
  {
   "cell_type": "code",
   "execution_count": null,
   "id": "hindu-queen",
   "metadata": {},
   "outputs": [],
   "source": [
    "# Check the stddev of each channel\n",
    "# TODO: refactor signal check function to actually use this\n",
    "np.std(X.T, axis=0)"
   ]
  },
  {
   "cell_type": "code",
   "execution_count": null,
   "id": "portable-companion",
   "metadata": {},
   "outputs": [],
   "source": []
  }
 ],
 "metadata": {
  "kernelspec": {
   "display_name": "erb-thesis",
   "language": "python",
   "name": "erb-thesis"
  },
  "language_info": {
   "codemirror_mode": {
    "name": "ipython",
    "version": 3
   },
   "file_extension": ".py",
   "mimetype": "text/x-python",
   "name": "python",
   "nbconvert_exporter": "python",
   "pygments_lexer": "ipython3",
   "version": "3.7.8"
  }
 },
 "nbformat": 4,
 "nbformat_minor": 5
}
