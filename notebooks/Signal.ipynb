{
 "cells": [
  {
   "cell_type": "markdown",
   "id": "simplified-prize",
   "metadata": {},
   "source": [
    "# Signal\n",
    "\n",
    "Various utilities to do signal filtering and quality checking."
   ]
  },
  {
   "cell_type": "code",
   "execution_count": null,
   "id": "prostate-voice",
   "metadata": {},
   "outputs": [],
   "source": [
    "# Imports\n",
    "import numpy as np\n",
    "import seaborn as sns\n",
    "import matplotlib.pyplot as plt\n",
    "\n",
    "from eegclassify import main, load, clean, features, preprocess, transform\n",
    "from eegwatch.devices.muse import CHANNELS_MUSE\n",
    "\n",
    "%matplotlib inline\n",
    "plt.rcParams['figure.figsize'] = [15, 5]\n",
    "\n",
    "N_SAMPLES_PLOT = 400"
   ]
  },
  {
   "cell_type": "code",
   "execution_count": null,
   "id": "finnish-publication",
   "metadata": {},
   "outputs": [],
   "source": [
    "%%javascript\n",
    "document.title='erb-thesis/Signal - Jupyter'  // Set the document title to be able to track time spent working on the notebook with ActivityWatch"
   ]
  },
  {
   "cell_type": "code",
   "execution_count": null,
   "id": "anticipated-repeat",
   "metadata": {},
   "outputs": [],
   "source": [
    "# Pick the last recording\n",
    "files = load._get_all_recording_files()\n",
    "files = sorted(files)[-1:]\n",
    "\n",
    "# Load the last files\n",
    "df = load.load_eeg(files)\n",
    "X = df.drop(columns=['timestamp']).to_numpy()\n",
    "print(X.shape)"
   ]
  },
  {
   "cell_type": "code",
   "execution_count": null,
   "id": "technical-musical",
   "metadata": {},
   "outputs": [],
   "source": [
    "ax = sns.lineplot(data=X[-N_SAMPLES_PLOT:, :], dashes=False)\n",
    "ax.set_title(\"Raw signal (pre-filtering)\")\n",
    "ax.legend(labels=CHANNELS_MUSE);"
   ]
  },
  {
   "cell_type": "code",
   "execution_count": null,
   "id": "thousand-force",
   "metadata": {},
   "outputs": [],
   "source": [
    "X_f = clean.filter(X)\n",
    "ax = sns.lineplot(data=X_f[-N_SAMPLES_PLOT:, :], dashes=False)\n",
    "ax.set_title(\"Filtered signal\")\n",
    "ax.legend(labels=CHANNELS_MUSE);"
   ]
  },
  {
   "cell_type": "code",
   "execution_count": null,
   "id": "modular-climb",
   "metadata": {},
   "outputs": [],
   "source": [
    "# Check the stddev of each channel\n",
    "# TODO: refactor signal check function to actually use this\n",
    "X_check = X_f[-N_SAMPLES_PLOT:, :]\n",
    "print(\"mean\\t\", np.mean(X_check, axis=0))\n",
    "print(\"std\\t\", np.std(X_check, axis=0))\n",
    "print(\"maxabs\\t\", np.max(np.abs(X_check), axis=0))"
   ]
  },
  {
   "cell_type": "code",
   "execution_count": null,
   "id": "victorian-stylus",
   "metadata": {},
   "outputs": [],
   "source": []
  }
 ],
 "metadata": {
  "kernelspec": {
   "display_name": "erb-thesis",
   "language": "python",
   "name": "erb-thesis"
  },
  "language_info": {
   "codemirror_mode": {
    "name": "ipython",
    "version": 3
   },
   "file_extension": ".py",
   "mimetype": "text/x-python",
   "name": "python",
   "nbconvert_exporter": "python",
   "pygments_lexer": "ipython3",
   "version": "3.7.8"
  }
 },
 "nbformat": 4,
 "nbformat_minor": 5
}
